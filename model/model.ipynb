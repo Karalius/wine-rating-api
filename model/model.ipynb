{
 "cells": [
  {
   "cell_type": "code",
   "execution_count": null,
   "source": [
    "import pandas as pd\r\n",
    "import matplotlib.pyplot as plt\r\n",
    "import sys\r\n",
    "sys.path.append('../')\r\n",
    "from src.cleaning_text import Text\r\n",
    "from sklearn.feature_extraction.text import TfidfVectorizer\r\n",
    "from sklearn.model_selection import train_test_split\r\n",
    "from sklearn.ensemble import RandomForestClassifier\r\n",
    "from sklearn.metrics import classification_report\r\n",
    "from sklearn.pipeline import Pipeline\r\n",
    "#import pickle"
   ],
   "outputs": [
    {
     "output_type": "stream",
     "name": "stderr",
     "text": [
      "[nltk_data] Downloading package wordnet to\n",
      "[nltk_data]     C:\\Users\\37069\\AppData\\Roaming\\nltk_data...\n",
      "[nltk_data]   Package wordnet is already up-to-date!\n"
     ]
    }
   ],
   "metadata": {}
  },
  {
   "cell_type": "code",
   "execution_count": 2,
   "source": [
    "df = pd.read_csv('../data/totalwine_data.csv', index_col=0)"
   ],
   "outputs": [],
   "metadata": {}
  },
  {
   "cell_type": "code",
   "execution_count": 4,
   "source": [
    "print(f'There are {df.duplicated().sum()} duplicated rows in this dataset.')"
   ],
   "outputs": [
    {
     "output_type": "stream",
     "name": "stdout",
     "text": [
      "There are 0 duplicated rows in this dataset.\n"
     ]
    }
   ],
   "metadata": {}
  },
  {
   "cell_type": "code",
   "execution_count": 5,
   "source": [
    "# Create new dataset with wished columns for the model\r\n",
    "\r\n",
    "data = df[['score', 'description']].dropna().reset_index(drop=True)"
   ],
   "outputs": [],
   "metadata": {}
  },
  {
   "cell_type": "code",
   "execution_count": 6,
   "source": [
    "data.head()"
   ],
   "outputs": [
    {
     "output_type": "execute_result",
     "data": {
      "text/plain": [
       "   score                                        description\n",
       "0   92.0  Wine Enthusiast -Ribera del Duero, Spain - \"Bl...\n",
       "1   91.0  Wine Spectator-Sonoma Coast, Sonoma, CA- \"Exhi...\n",
       "2   90.0  Wine Spectator-Columbia Valley, Washington - \"...\n",
       "3   94.0  Jeb Dunnuck-Columbia Valley, Washington- \"Terr...\n",
       "4  100.0  Wine Advocate-Napa, CA- \"Possesses an opaque b..."
      ],
      "text/html": [
       "<div>\n",
       "<style scoped>\n",
       "    .dataframe tbody tr th:only-of-type {\n",
       "        vertical-align: middle;\n",
       "    }\n",
       "\n",
       "    .dataframe tbody tr th {\n",
       "        vertical-align: top;\n",
       "    }\n",
       "\n",
       "    .dataframe thead th {\n",
       "        text-align: right;\n",
       "    }\n",
       "</style>\n",
       "<table border=\"1\" class=\"dataframe\">\n",
       "  <thead>\n",
       "    <tr style=\"text-align: right;\">\n",
       "      <th></th>\n",
       "      <th>score</th>\n",
       "      <th>description</th>\n",
       "    </tr>\n",
       "  </thead>\n",
       "  <tbody>\n",
       "    <tr>\n",
       "      <th>0</th>\n",
       "      <td>92.0</td>\n",
       "      <td>Wine Enthusiast -Ribera del Duero, Spain - \"Bl...</td>\n",
       "    </tr>\n",
       "    <tr>\n",
       "      <th>1</th>\n",
       "      <td>91.0</td>\n",
       "      <td>Wine Spectator-Sonoma Coast, Sonoma, CA- \"Exhi...</td>\n",
       "    </tr>\n",
       "    <tr>\n",
       "      <th>2</th>\n",
       "      <td>90.0</td>\n",
       "      <td>Wine Spectator-Columbia Valley, Washington - \"...</td>\n",
       "    </tr>\n",
       "    <tr>\n",
       "      <th>3</th>\n",
       "      <td>94.0</td>\n",
       "      <td>Jeb Dunnuck-Columbia Valley, Washington- \"Terr...</td>\n",
       "    </tr>\n",
       "    <tr>\n",
       "      <th>4</th>\n",
       "      <td>100.0</td>\n",
       "      <td>Wine Advocate-Napa, CA- \"Possesses an opaque b...</td>\n",
       "    </tr>\n",
       "  </tbody>\n",
       "</table>\n",
       "</div>"
      ]
     },
     "metadata": {},
     "execution_count": 6
    }
   ],
   "metadata": {}
  },
  {
   "cell_type": "code",
   "execution_count": 7,
   "source": [
    "def transform_points_simplified(points):\r\n",
    "    if points < 92:\r\n",
    "        return 1 # Poor\r\n",
    "    elif points >= 92 and points < 94:\r\n",
    "        return 2 # Satisfactory\r\n",
    "    elif points >= 94 and points < 96:\r\n",
    "        return 3 # Good\r\n",
    "    elif points >= 96 and points < 98:\r\n",
    "        return 4 # Very good\r\n",
    "    else:\r\n",
    "        return 5 # Excellent"
   ],
   "outputs": [],
   "metadata": {}
  },
  {
   "cell_type": "code",
   "execution_count": 8,
   "source": [
    "# Add points simplified as a column\r\n",
    "\r\n",
    "dataset = data.assign(points_simplified = data['score'].apply(transform_points_simplified))"
   ],
   "outputs": [],
   "metadata": {}
  },
  {
   "cell_type": "code",
   "execution_count": 9,
   "source": [
    "dataset.head()"
   ],
   "outputs": [
    {
     "output_type": "execute_result",
     "data": {
      "text/plain": [
       "   score                                        description  points_simplified\n",
       "0   92.0  Wine Enthusiast -Ribera del Duero, Spain - \"Bl...                  2\n",
       "1   91.0  Wine Spectator-Sonoma Coast, Sonoma, CA- \"Exhi...                  1\n",
       "2   90.0  Wine Spectator-Columbia Valley, Washington - \"...                  1\n",
       "3   94.0  Jeb Dunnuck-Columbia Valley, Washington- \"Terr...                  3\n",
       "4  100.0  Wine Advocate-Napa, CA- \"Possesses an opaque b...                  5"
      ],
      "text/html": [
       "<div>\n",
       "<style scoped>\n",
       "    .dataframe tbody tr th:only-of-type {\n",
       "        vertical-align: middle;\n",
       "    }\n",
       "\n",
       "    .dataframe tbody tr th {\n",
       "        vertical-align: top;\n",
       "    }\n",
       "\n",
       "    .dataframe thead th {\n",
       "        text-align: right;\n",
       "    }\n",
       "</style>\n",
       "<table border=\"1\" class=\"dataframe\">\n",
       "  <thead>\n",
       "    <tr style=\"text-align: right;\">\n",
       "      <th></th>\n",
       "      <th>score</th>\n",
       "      <th>description</th>\n",
       "      <th>points_simplified</th>\n",
       "    </tr>\n",
       "  </thead>\n",
       "  <tbody>\n",
       "    <tr>\n",
       "      <th>0</th>\n",
       "      <td>92.0</td>\n",
       "      <td>Wine Enthusiast -Ribera del Duero, Spain - \"Bl...</td>\n",
       "      <td>2</td>\n",
       "    </tr>\n",
       "    <tr>\n",
       "      <th>1</th>\n",
       "      <td>91.0</td>\n",
       "      <td>Wine Spectator-Sonoma Coast, Sonoma, CA- \"Exhi...</td>\n",
       "      <td>1</td>\n",
       "    </tr>\n",
       "    <tr>\n",
       "      <th>2</th>\n",
       "      <td>90.0</td>\n",
       "      <td>Wine Spectator-Columbia Valley, Washington - \"...</td>\n",
       "      <td>1</td>\n",
       "    </tr>\n",
       "    <tr>\n",
       "      <th>3</th>\n",
       "      <td>94.0</td>\n",
       "      <td>Jeb Dunnuck-Columbia Valley, Washington- \"Terr...</td>\n",
       "      <td>3</td>\n",
       "    </tr>\n",
       "    <tr>\n",
       "      <th>4</th>\n",
       "      <td>100.0</td>\n",
       "      <td>Wine Advocate-Napa, CA- \"Possesses an opaque b...</td>\n",
       "      <td>5</td>\n",
       "    </tr>\n",
       "  </tbody>\n",
       "</table>\n",
       "</div>"
      ]
     },
     "metadata": {},
     "execution_count": 9
    }
   ],
   "metadata": {}
  },
  {
   "cell_type": "code",
   "execution_count": 10,
   "source": [
    "fig, ax = plt.subplots(figsize=(12, 5))\r\n",
    "plt.xticks(fontsize=15) # X Ticks\r\n",
    "plt.yticks(fontsize=15) # Y Ticks\r\n",
    "ax.set_title('Number of wines per points', fontweight=\"bold\", size=20) # Title\r\n",
    "ax.set_ylabel('Number of wines', fontsize = 20) # Y label\r\n",
    "ax.set_xlabel('Points', fontsize = 20) # X label\r\n",
    "dataset.groupby(['points_simplified'])['description'].size().plot(ax=ax, kind='bar', alpha=0.75, rot=0)"
   ],
   "outputs": [
    {
     "output_type": "execute_result",
     "data": {
      "text/plain": [
       "<AxesSubplot:title={'center':'Number of wines per points'}, xlabel='points_simplified', ylabel='Number of wines'>"
      ]
     },
     "metadata": {},
     "execution_count": 10
    },
    {
     "output_type": "display_data",
     "data": {
      "text/plain": [
       "<Figure size 864x360 with 1 Axes>"
      ],
      "image/png": "[encoded data removed]"
     },
     "metadata": {
      "needs_background": "light"
     }
    }
   ],
   "metadata": {}
  },
  {
   "cell_type": "code",
   "execution_count": 11,
   "source": [
    "list_of_descriptions = dataset['description'].to_list()"
   ],
   "outputs": [],
   "metadata": {}
  },
  {
   "cell_type": "code",
   "execution_count": 12,
   "source": [
    "# Prepare description for vectorization\r\n",
    "\r\n",
    "cleaned_descriptions = Text(list_of_descriptions).clean_text()"
   ],
   "outputs": [],
   "metadata": {}
  },
  {
   "cell_type": "code",
   "execution_count": 13,
   "source": [
    "dataset['description'] = cleaned_descriptions"
   ],
   "outputs": [],
   "metadata": {}
  },
  {
   "cell_type": "code",
   "execution_count": 14,
   "source": [
    "dataset.head()"
   ],
   "outputs": [
    {
     "output_type": "execute_result",
     "data": {
      "text/plain": [
       "   score                                        description  points_simplified\n",
       "0   92.0  blackberry leather plum aromas inviting wine f...                  2\n",
       "1   91.0  exhibits rich dense core savory blackberry wil...                  1\n",
       "2   90.0  dense well structured brawny black cherry smok...                  1\n",
       "3   94.0  terrific red currants blackberries spice box c...                  3\n",
       "4  100.0  possesses opaque blue purple color well extrao...                  5"
      ],
      "text/html": [
       "<div>\n",
       "<style scoped>\n",
       "    .dataframe tbody tr th:only-of-type {\n",
       "        vertical-align: middle;\n",
       "    }\n",
       "\n",
       "    .dataframe tbody tr th {\n",
       "        vertical-align: top;\n",
       "    }\n",
       "\n",
       "    .dataframe thead th {\n",
       "        text-align: right;\n",
       "    }\n",
       "</style>\n",
       "<table border=\"1\" class=\"dataframe\">\n",
       "  <thead>\n",
       "    <tr style=\"text-align: right;\">\n",
       "      <th></th>\n",
       "      <th>score</th>\n",
       "      <th>description</th>\n",
       "      <th>points_simplified</th>\n",
       "    </tr>\n",
       "  </thead>\n",
       "  <tbody>\n",
       "    <tr>\n",
       "      <th>0</th>\n",
       "      <td>92.0</td>\n",
       "      <td>blackberry leather plum aromas inviting wine f...</td>\n",
       "      <td>2</td>\n",
       "    </tr>\n",
       "    <tr>\n",
       "      <th>1</th>\n",
       "      <td>91.0</td>\n",
       "      <td>exhibits rich dense core savory blackberry wil...</td>\n",
       "      <td>1</td>\n",
       "    </tr>\n",
       "    <tr>\n",
       "      <th>2</th>\n",
       "      <td>90.0</td>\n",
       "      <td>dense well structured brawny black cherry smok...</td>\n",
       "      <td>1</td>\n",
       "    </tr>\n",
       "    <tr>\n",
       "      <th>3</th>\n",
       "      <td>94.0</td>\n",
       "      <td>terrific red currants blackberries spice box c...</td>\n",
       "      <td>3</td>\n",
       "    </tr>\n",
       "    <tr>\n",
       "      <th>4</th>\n",
       "      <td>100.0</td>\n",
       "      <td>possesses opaque blue purple color well extrao...</td>\n",
       "      <td>5</td>\n",
       "    </tr>\n",
       "  </tbody>\n",
       "</table>\n",
       "</div>"
      ]
     },
     "metadata": {},
     "execution_count": 14
    }
   ],
   "metadata": {}
  },
  {
   "cell_type": "code",
   "execution_count": 15,
   "source": [
    "X = dataset['description']\r\n",
    "y = dataset['points_simplified']"
   ],
   "outputs": [],
   "metadata": {}
  },
  {
   "cell_type": "code",
   "execution_count": 16,
   "source": [
    "X_train, X_test, y_train, y_test = train_test_split(X, y, test_size=0.1, random_state=101)"
   ],
   "outputs": [],
   "metadata": {}
  },
  {
   "cell_type": "code",
   "execution_count": 17,
   "source": [
    "vectorizer = TfidfVectorizer()\r\n",
    "classifier = RandomForestClassifier()"
   ],
   "outputs": [],
   "metadata": {}
  },
  {
   "cell_type": "code",
   "execution_count": 18,
   "source": [
    "pipe = Pipeline(\r\n",
    "    [\r\n",
    "        (\"Tfidf\", vectorizer),\r\n",
    "        (\"Rcf\", classifier)\r\n",
    "        ]\r\n",
    "    )\r\n",
    "    \r\n",
    "pipe.fit(X_train, y_train)"
   ],
   "outputs": [
    {
     "output_type": "execute_result",
     "data": {
      "text/plain": [
       "Pipeline(steps=[('Tfidf', TfidfVectorizer()),\n",
       "                ('Rcf', RandomForestClassifier())])"
      ]
     },
     "metadata": {},
     "execution_count": 18
    }
   ],
   "metadata": {}
  },
  {
   "cell_type": "code",
   "execution_count": 19,
   "source": [
    "# Testing the model\r\n",
    "predictions = pipe.predict(X_test)\r\n",
    "print(classification_report(y_test, predictions))"
   ],
   "outputs": [
    {
     "output_type": "stream",
     "name": "stdout",
     "text": [
      "              precision    recall  f1-score   support\n",
      "\n",
      "           1       0.50      0.54      0.52       112\n",
      "           2       0.42      0.58      0.49       156\n",
      "           3       0.51      0.46      0.49       130\n",
      "           4       0.89      0.41      0.56        80\n",
      "           5       0.81      0.70      0.75        87\n",
      "\n",
      "    accuracy                           0.54       565\n",
      "   macro avg       0.63      0.54      0.56       565\n",
      "weighted avg       0.58      0.54      0.55       565\n",
      "\n"
     ]
    }
   ],
   "metadata": {}
  },
  {
   "cell_type": "code",
   "execution_count": 20,
   "source": [
    "# with open(\"pipe.pkl\", \"wb\") as picklefile:\r\n",
    "#     pickle.dump(pipe, picklefile)"
   ],
   "outputs": [],
   "metadata": {}
  }
 ],
 "metadata": {
  "orig_nbformat": 4,
  "language_info": {
   "name": "python",
   "version": "3.9.0",
   "mimetype": "text/x-python",
   "codemirror_mode": {
    "name": "ipython",
    "version": 3
   },
   "pygments_lexer": "ipython3",
   "nbconvert_exporter": "python",
   "file_extension": ".py"
  },
  "kernelspec": {
   "name": "python3",
   "display_name": "Python 3.9.0 64-bit ('venv': venv)"
  },
  "interpreter": {
   "hash": "0412ba408b32242f46ba9fe6c56644877e9cd56ecf91f76686fdaeae5335a873"
  }
 },
 "nbformat": 4,
 "nbformat_minor": 2
}